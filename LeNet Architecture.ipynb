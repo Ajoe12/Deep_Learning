{
 "cells": [
  {
   "cell_type": "code",
   "execution_count": 1,
   "id": "57567130",
   "metadata": {},
   "outputs": [
    {
     "name": "stderr",
     "output_type": "stream",
     "text": [
      "Using TensorFlow backend.\n"
     ]
    }
   ],
   "source": [
    "import keras \n",
    "from keras.datasets import mnist\n",
    "from keras.layers import Conv2D, AveragePooling2D\n",
    "from keras.layers import Dense, Flatten\n",
    "from keras.models import Sequential"
   ]
  },
  {
   "cell_type": "code",
   "execution_count": 2,
   "id": "8731de63",
   "metadata": {},
   "outputs": [],
   "source": [
    "(x_train, y_train), (x_test, y_test) = mnist.load_data()"
   ]
  },
  {
   "cell_type": "code",
   "execution_count": 3,
   "id": "fda84fb1",
   "metadata": {},
   "outputs": [],
   "source": [
    "x_train = x_train.reshape(x_train.shape[0], 28, 28, 1)\n",
    "x_test = x_test.reshape(x_test.shape[0], 28, 28, 1)\n",
    "\n",
    "# Normalization\n",
    "x_train = x_train / 255\n",
    "x_test = x_test / 255\n",
    "\n",
    "# One Hot Encoding\n",
    "y_train = keras.utils.to_categorical(y_train, 10)\n",
    "y_test = keras.utils.to_categorical(y_test, 10)"
   ]
  },
  {
   "cell_type": "code",
   "execution_count": 4,
   "id": "64390622",
   "metadata": {},
   "outputs": [],
   "source": [
    "model = Sequential()\n",
    "model.add(Conv2D(6, kernel_size=(5, 5), activation='tanh', input_shape=(28, 28, 1)))\n",
    "model.add(AveragePooling2D(pool_size=(2, 2)))\n",
    "model.add(Conv2D(16, kernel_size=(5, 5), activation='tanh'))\n",
    "model.add(AveragePooling2D(pool_size=(2, 2)))\n",
    "model.add(Flatten())\n",
    "model.add(Dense(120, activation='tanh'))\n",
    "model.add(Dense(84, activation='tanh'))\n",
    "model.add(Dense(10, activation='softmax'))"
   ]
  },
  {
   "cell_type": "code",
   "execution_count": 5,
   "id": "22b9eb5a",
   "metadata": {},
   "outputs": [
    {
     "data": {
      "text/plain": [
       "<bound method Network.summary of <keras.engine.sequential.Sequential object at 0x000001CC46D3AB48>>"
      ]
     },
     "execution_count": 5,
     "metadata": {},
     "output_type": "execute_result"
    }
   ],
   "source": [
    "model.summary"
   ]
  },
  {
   "cell_type": "code",
   "execution_count": 6,
   "id": "9f93b4ae",
   "metadata": {},
   "outputs": [],
   "source": [
    "model.compile(loss=keras.metrics.categorical_crossentropy, optimizer=keras.optimizers.Adam(), metrics=['accuracy'])"
   ]
  },
  {
   "cell_type": "code",
   "execution_count": 7,
   "id": "0015b73d",
   "metadata": {},
   "outputs": [
    {
     "name": "stdout",
     "output_type": "stream",
     "text": [
      "Train on 60000 samples, validate on 10000 samples\n",
      "Epoch 1/20\n",
      "60000/60000 [==============================] - 24s 396us/step - loss: 0.3561 - accuracy: 0.8985 - val_loss: 0.1602 - val_accuracy: 0.9532\n",
      "Epoch 2/20\n",
      "60000/60000 [==============================] - 23s 382us/step - loss: 0.1304 - accuracy: 0.9610 - val_loss: 0.0946 - val_accuracy: 0.9711\n",
      "Epoch 3/20\n",
      "60000/60000 [==============================] - 23s 390us/step - loss: 0.0858 - accuracy: 0.9737 - val_loss: 0.0729 - val_accuracy: 0.9761\n",
      "Epoch 4/20\n",
      "60000/60000 [==============================] - 23s 384us/step - loss: 0.0637 - accuracy: 0.9802 - val_loss: 0.0655 - val_accuracy: 0.9773\n",
      "Epoch 5/20\n",
      "60000/60000 [==============================] - 23s 389us/step - loss: 0.0536 - accuracy: 0.9836 - val_loss: 0.0578 - val_accuracy: 0.9805\n",
      "Epoch 6/20\n",
      "60000/60000 [==============================] - 23s 386us/step - loss: 0.0423 - accuracy: 0.9868 - val_loss: 0.0507 - val_accuracy: 0.9829\n",
      "Epoch 7/20\n",
      "60000/60000 [==============================] - 23s 387us/step - loss: 0.0366 - accuracy: 0.9887 - val_loss: 0.0481 - val_accuracy: 0.9834\n",
      "Epoch 8/20\n",
      "60000/60000 [==============================] - 24s 394us/step - loss: 0.0319 - accuracy: 0.9897 - val_loss: 0.0453 - val_accuracy: 0.9831\n",
      "Epoch 9/20\n",
      "60000/60000 [==============================] - 24s 407us/step - loss: 0.0268 - accuracy: 0.9913 - val_loss: 0.0525 - val_accuracy: 0.9821\n",
      "Epoch 10/20\n",
      "60000/60000 [==============================] - 24s 405us/step - loss: 0.0228 - accuracy: 0.9928 - val_loss: 0.0413 - val_accuracy: 0.9860\n",
      "Epoch 11/20\n",
      "60000/60000 [==============================] - 26s 432us/step - loss: 0.0193 - accuracy: 0.9941 - val_loss: 0.0429 - val_accuracy: 0.9857\n",
      "Epoch 12/20\n",
      "60000/60000 [==============================] - 24s 406us/step - loss: 0.0178 - accuracy: 0.9942 - val_loss: 0.0449 - val_accuracy: 0.9849\n",
      "Epoch 13/20\n",
      "60000/60000 [==============================] - 25s 420us/step - loss: 0.0162 - accuracy: 0.9948 - val_loss: 0.0408 - val_accuracy: 0.9863\n",
      "Epoch 14/20\n",
      "60000/60000 [==============================] - 25s 413us/step - loss: 0.0128 - accuracy: 0.9963 - val_loss: 0.0481 - val_accuracy: 0.9842\n",
      "Epoch 15/20\n",
      "60000/60000 [==============================] - 26s 436us/step - loss: 0.0122 - accuracy: 0.9961 - val_loss: 0.0418 - val_accuracy: 0.9865\n",
      "Epoch 16/20\n",
      "60000/60000 [==============================] - 25s 415us/step - loss: 0.0092 - accuracy: 0.9973 - val_loss: 0.0424 - val_accuracy: 0.9862\n",
      "Epoch 17/20\n",
      "60000/60000 [==============================] - 26s 434us/step - loss: 0.0091 - accuracy: 0.9973 - val_loss: 0.0434 - val_accuracy: 0.9862\n",
      "Epoch 18/20\n",
      "60000/60000 [==============================] - 25s 421us/step - loss: 0.0080 - accuracy: 0.9976 - val_loss: 0.0451 - val_accuracy: 0.9867\n",
      "Epoch 19/20\n",
      "60000/60000 [==============================] - 23s 387us/step - loss: 0.0086 - accuracy: 0.9974 - val_loss: 0.0499 - val_accuracy: 0.9849\n",
      "Epoch 20/20\n",
      "60000/60000 [==============================] - 24s 396us/step - loss: 0.0085 - accuracy: 0.9972 - val_loss: 0.0570 - val_accuracy: 0.9845\n"
     ]
    },
    {
     "data": {
      "text/plain": [
       "<keras.callbacks.callbacks.History at 0x1cc471c3948>"
      ]
     },
     "execution_count": 7,
     "metadata": {},
     "output_type": "execute_result"
    }
   ],
   "source": [
    "model.fit(x_train, y_train, batch_size=128, epochs=20, verbose=1, validation_data=(x_test, y_test))"
   ]
  },
  {
   "cell_type": "code",
   "execution_count": 8,
   "id": "94aadfe8",
   "metadata": {},
   "outputs": [
    {
     "name": "stdout",
     "output_type": "stream",
     "text": [
      "10000/10000 [==============================] - 3s 305us/step\n",
      "Test Loss: 0.05704886894037627\n",
      "Test accuracy: 0.984499990940094\n"
     ]
    }
   ],
   "source": [
    "score = model.evaluate(x_test, y_test)\n",
    "print('Test Loss:', score[0])\n",
    "print('Test accuracy:', score[1])"
   ]
  },
  {
   "cell_type": "code",
   "execution_count": null,
   "id": "0208d504",
   "metadata": {},
   "outputs": [],
   "source": []
  }
 ],
 "metadata": {
  "kernelspec": {
   "display_name": "Python 3 (ipykernel)",
   "language": "python",
   "name": "python3"
  },
  "language_info": {
   "codemirror_mode": {
    "name": "ipython",
    "version": 3
   },
   "file_extension": ".py",
   "mimetype": "text/x-python",
   "name": "python",
   "nbconvert_exporter": "python",
   "pygments_lexer": "ipython3",
   "version": "3.7.11"
  }
 },
 "nbformat": 4,
 "nbformat_minor": 5
}
