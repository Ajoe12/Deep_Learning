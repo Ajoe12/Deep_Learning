{
 "cells": [
  {
   "cell_type": "code",
   "execution_count": 4,
   "metadata": {},
   "outputs": [],
   "source": [
    "import tensorflow_hub as hub\n",
    "import pandas as pd\n",
    "import tensorflow_text as text\n",
    "import matplotlib.pyplot as plt\n",
    "from sklearn.model_selection import train_test_split\n",
    "import tensorflow as tf\n",
    "import numpy as np"
   ]
  },
  {
   "cell_type": "code",
   "execution_count": 5,
   "metadata": {
    "execution": {
     "iopub.execute_input": "2021-10-25T07:49:04.090809Z",
     "iopub.status.busy": "2021-10-25T07:49:04.090393Z",
     "iopub.status.idle": "2021-10-25T07:49:04.125380Z",
     "shell.execute_reply": "2021-10-25T07:49:04.124516Z",
     "shell.execute_reply.started": "2021-10-25T07:49:04.090762Z"
    }
   },
   "outputs": [],
   "source": [
    "# load data\n",
    "df = pd.read_csv('spam_data.csv')"
   ]
  },
  {
   "cell_type": "code",
   "execution_count": 6,
   "metadata": {
    "execution": {
     "iopub.execute_input": "2021-10-25T07:50:55.308552Z",
     "iopub.status.busy": "2021-10-25T07:50:55.308217Z",
     "iopub.status.idle": "2021-10-25T07:50:55.320215Z",
     "shell.execute_reply": "2021-10-25T07:50:55.319513Z",
     "shell.execute_reply.started": "2021-10-25T07:50:55.308522Z"
    }
   },
   "outputs": [
    {
     "data": {
      "text/html": [
       "<div>\n",
       "<style scoped>\n",
       "    .dataframe tbody tr th:only-of-type {\n",
       "        vertical-align: middle;\n",
       "    }\n",
       "\n",
       "    .dataframe tbody tr th {\n",
       "        vertical-align: top;\n",
       "    }\n",
       "\n",
       "    .dataframe thead th {\n",
       "        text-align: right;\n",
       "    }\n",
       "</style>\n",
       "<table border=\"1\" class=\"dataframe\">\n",
       "  <thead>\n",
       "    <tr style=\"text-align: right;\">\n",
       "      <th></th>\n",
       "      <th>Category</th>\n",
       "      <th>Message</th>\n",
       "    </tr>\n",
       "  </thead>\n",
       "  <tbody>\n",
       "    <tr>\n",
       "      <th>0</th>\n",
       "      <td>ham</td>\n",
       "      <td>Go until jurong point, crazy.. Available only ...</td>\n",
       "    </tr>\n",
       "    <tr>\n",
       "      <th>1</th>\n",
       "      <td>ham</td>\n",
       "      <td>Ok lar... Joking wif u oni...</td>\n",
       "    </tr>\n",
       "    <tr>\n",
       "      <th>2</th>\n",
       "      <td>spam</td>\n",
       "      <td>Free entry in 2 a wkly comp to win FA Cup fina...</td>\n",
       "    </tr>\n",
       "    <tr>\n",
       "      <th>3</th>\n",
       "      <td>ham</td>\n",
       "      <td>U dun say so early hor... U c already then say...</td>\n",
       "    </tr>\n",
       "    <tr>\n",
       "      <th>4</th>\n",
       "      <td>ham</td>\n",
       "      <td>Nah I don't think he goes to usf, he lives aro...</td>\n",
       "    </tr>\n",
       "  </tbody>\n",
       "</table>\n",
       "</div>"
      ],
      "text/plain": [
       "  Category                                            Message\n",
       "0      ham  Go until jurong point, crazy.. Available only ...\n",
       "1      ham                      Ok lar... Joking wif u oni...\n",
       "2     spam  Free entry in 2 a wkly comp to win FA Cup fina...\n",
       "3      ham  U dun say so early hor... U c already then say...\n",
       "4      ham  Nah I don't think he goes to usf, he lives aro..."
      ]
     },
     "execution_count": 6,
     "metadata": {},
     "output_type": "execute_result"
    }
   ],
   "source": [
    "df.head()"
   ]
  },
  {
   "cell_type": "code",
   "execution_count": 7,
   "metadata": {
    "execution": {
     "iopub.execute_input": "2021-10-25T07:49:17.996399Z",
     "iopub.status.busy": "2021-10-25T07:49:17.995989Z",
     "iopub.status.idle": "2021-10-25T07:49:18.005969Z",
     "shell.execute_reply": "2021-10-25T07:49:18.005345Z",
     "shell.execute_reply.started": "2021-10-25T07:49:17.996367Z"
    }
   },
   "outputs": [
    {
     "data": {
      "text/html": [
       "<div>\n",
       "<style scoped>\n",
       "    .dataframe tbody tr th:only-of-type {\n",
       "        vertical-align: middle;\n",
       "    }\n",
       "\n",
       "    .dataframe tbody tr th {\n",
       "        vertical-align: top;\n",
       "    }\n",
       "\n",
       "    .dataframe thead th {\n",
       "        text-align: right;\n",
       "    }\n",
       "</style>\n",
       "<table border=\"1\" class=\"dataframe\">\n",
       "  <thead>\n",
       "    <tr style=\"text-align: right;\">\n",
       "      <th></th>\n",
       "      <th>Category</th>\n",
       "      <th>Message</th>\n",
       "    </tr>\n",
       "  </thead>\n",
       "  <tbody>\n",
       "    <tr>\n",
       "      <th>4124</th>\n",
       "      <td>ham</td>\n",
       "      <td>Cool, want me to go to kappa or should I meet ...</td>\n",
       "    </tr>\n",
       "    <tr>\n",
       "      <th>1538</th>\n",
       "      <td>ham</td>\n",
       "      <td>All sounds good. Fingers . Makes it difficult ...</td>\n",
       "    </tr>\n",
       "    <tr>\n",
       "      <th>2232</th>\n",
       "      <td>ham</td>\n",
       "      <td>K, wen ur free come to my home and also tel vi...</td>\n",
       "    </tr>\n",
       "    <tr>\n",
       "      <th>3650</th>\n",
       "      <td>ham</td>\n",
       "      <td>Hmm ill have to think about it... ok you're fo...</td>\n",
       "    </tr>\n",
       "    <tr>\n",
       "      <th>2979</th>\n",
       "      <td>ham</td>\n",
       "      <td>Yar lor... Keep raining non stop... Or u wan 2...</td>\n",
       "    </tr>\n",
       "    <tr>\n",
       "      <th>3266</th>\n",
       "      <td>spam</td>\n",
       "      <td>44 7732584351, Do you want a New Nokia 3510i c...</td>\n",
       "    </tr>\n",
       "    <tr>\n",
       "      <th>1509</th>\n",
       "      <td>ham</td>\n",
       "      <td>Sounds like something that someone testing me ...</td>\n",
       "    </tr>\n",
       "    <tr>\n",
       "      <th>1383</th>\n",
       "      <td>ham</td>\n",
       "      <td>Its ok my arm is feeling weak cuz i got a shot...</td>\n",
       "    </tr>\n",
       "    <tr>\n",
       "      <th>194</th>\n",
       "      <td>ham</td>\n",
       "      <td>It will stop on itself. I however suggest she ...</td>\n",
       "    </tr>\n",
       "    <tr>\n",
       "      <th>9</th>\n",
       "      <td>spam</td>\n",
       "      <td>Had your mobile 11 months or more? U R entitle...</td>\n",
       "    </tr>\n",
       "    <tr>\n",
       "      <th>3669</th>\n",
       "      <td>ham</td>\n",
       "      <td>Thanks for loving me so. You rock</td>\n",
       "    </tr>\n",
       "    <tr>\n",
       "      <th>4969</th>\n",
       "      <td>ham</td>\n",
       "      <td>Future is not what we planned for tomorrow.......</td>\n",
       "    </tr>\n",
       "    <tr>\n",
       "      <th>1661</th>\n",
       "      <td>ham</td>\n",
       "      <td>No just send to you. Bec you in temple na.</td>\n",
       "    </tr>\n",
       "    <tr>\n",
       "      <th>4502</th>\n",
       "      <td>ham</td>\n",
       "      <td>So wat's da decision?</td>\n",
       "    </tr>\n",
       "    <tr>\n",
       "      <th>284</th>\n",
       "      <td>ham</td>\n",
       "      <td>Okie...</td>\n",
       "    </tr>\n",
       "  </tbody>\n",
       "</table>\n",
       "</div>"
      ],
      "text/plain": [
       "     Category                                            Message\n",
       "4124      ham  Cool, want me to go to kappa or should I meet ...\n",
       "1538      ham  All sounds good. Fingers . Makes it difficult ...\n",
       "2232      ham  K, wen ur free come to my home and also tel vi...\n",
       "3650      ham  Hmm ill have to think about it... ok you're fo...\n",
       "2979      ham  Yar lor... Keep raining non stop... Or u wan 2...\n",
       "3266     spam  44 7732584351, Do you want a New Nokia 3510i c...\n",
       "1509      ham  Sounds like something that someone testing me ...\n",
       "1383      ham  Its ok my arm is feeling weak cuz i got a shot...\n",
       "194       ham  It will stop on itself. I however suggest she ...\n",
       "9        spam  Had your mobile 11 months or more? U R entitle...\n",
       "3669      ham                  Thanks for loving me so. You rock\n",
       "4969      ham  Future is not what we planned for tomorrow.......\n",
       "1661      ham         No just send to you. Bec you in temple na.\n",
       "4502      ham                              So wat's da decision?\n",
       "284       ham                                            Okie..."
      ]
     },
     "execution_count": 7,
     "metadata": {},
     "output_type": "execute_result"
    }
   ],
   "source": [
    "df.sample(15)"
   ]
  },
  {
   "cell_type": "code",
   "execution_count": 8,
   "metadata": {
    "execution": {
     "iopub.execute_input": "2021-10-25T07:50:13.521891Z",
     "iopub.status.busy": "2021-10-25T07:50:13.521628Z",
     "iopub.status.idle": "2021-10-25T07:50:13.531383Z",
     "shell.execute_reply": "2021-10-25T07:50:13.530561Z",
     "shell.execute_reply.started": "2021-10-25T07:50:13.521862Z"
    }
   },
   "outputs": [
    {
     "data": {
      "text/plain": [
       "'Go until jurong point, crazy.. Available only in bugis n great world la e buffet... Cine there got amore wat...'"
      ]
     },
     "execution_count": 8,
     "metadata": {},
     "output_type": "execute_result"
    }
   ],
   "source": [
    "df.Message[0]"
   ]
  },
  {
   "cell_type": "code",
   "execution_count": 9,
   "metadata": {
    "execution": {
     "iopub.execute_input": "2021-10-25T07:51:20.881409Z",
     "iopub.status.busy": "2021-10-25T07:51:20.881069Z",
     "iopub.status.idle": "2021-10-25T07:51:20.893959Z",
     "shell.execute_reply": "2021-10-25T07:51:20.893330Z",
     "shell.execute_reply.started": "2021-10-25T07:51:20.881370Z"
    }
   },
   "outputs": [
    {
     "data": {
      "text/plain": [
       "ham     4825\n",
       "spam     747\n",
       "Name: Category, dtype: int64"
      ]
     },
     "execution_count": 9,
     "metadata": {},
     "output_type": "execute_result"
    }
   ],
   "source": [
    "# check count and unique and top values and their frequency\n",
    "df['Category'].value_counts()"
   ]
  },
  {
   "cell_type": "code",
   "execution_count": 10,
   "metadata": {
    "execution": {
     "iopub.execute_input": "2021-10-25T07:51:41.883398Z",
     "iopub.status.busy": "2021-10-25T07:51:41.882792Z",
     "iopub.status.idle": "2021-10-25T07:51:41.888843Z",
     "shell.execute_reply": "2021-10-25T07:51:41.887669Z",
     "shell.execute_reply.started": "2021-10-25T07:51:41.883358Z"
    }
   },
   "outputs": [
    {
     "name": "stdout",
     "output_type": "stream",
     "text": [
      "0.15%\n"
     ]
    }
   ],
   "source": [
    "# check percentage of data - states how much data needs to be balanced\n",
    "print(str(round(747/4825,2))+'%')"
   ]
  },
  {
   "cell_type": "code",
   "execution_count": 11,
   "metadata": {
    "execution": {
     "iopub.execute_input": "2021-10-25T07:52:42.502315Z",
     "iopub.status.busy": "2021-10-25T07:52:42.501795Z",
     "iopub.status.idle": "2021-10-25T07:52:42.513814Z",
     "shell.execute_reply": "2021-10-25T07:52:42.512706Z",
     "shell.execute_reply.started": "2021-10-25T07:52:42.502250Z"
    }
   },
   "outputs": [
    {
     "name": "stdout",
     "output_type": "stream",
     "text": [
      "Ham Dataset Shape: (4825, 2)\n",
      "Spam Dataset Shape: (747, 2)\n"
     ]
    }
   ],
   "source": [
    "# creating 2 new dataframe as df_ham , df_spam\n",
    "df_spam = df[df['Category']=='spam']\n",
    "\n",
    "df_ham = df[df['Category']=='ham']\n",
    "\n",
    "print(\"Ham Dataset Shape:\", df_ham.shape)\n",
    "\n",
    "print(\"Spam Dataset Shape:\", df_spam.shape)"
   ]
  },
  {
   "cell_type": "code",
   "execution_count": 12,
   "metadata": {
    "execution": {
     "iopub.execute_input": "2021-10-25T07:52:48.333003Z",
     "iopub.status.busy": "2021-10-25T07:52:48.332541Z",
     "iopub.status.idle": "2021-10-25T07:52:48.340523Z",
     "shell.execute_reply": "2021-10-25T07:52:48.339571Z",
     "shell.execute_reply.started": "2021-10-25T07:52:48.332971Z"
    }
   },
   "outputs": [
    {
     "data": {
      "text/plain": [
       "(747, 2)"
      ]
     },
     "execution_count": 12,
     "metadata": {},
     "output_type": "execute_result"
    }
   ],
   "source": [
    "# downsampling ham dataset - take only random 747 example\n",
    "# will use df_spam.shape[0] - 747\n",
    "df_ham_downsampled = df_ham.sample(df_spam.shape[0])\n",
    "df_ham_downsampled.shape"
   ]
  },
  {
   "cell_type": "code",
   "execution_count": 13,
   "metadata": {
    "execution": {
     "iopub.execute_input": "2021-10-25T08:03:03.477413Z",
     "iopub.status.busy": "2021-10-25T08:03:03.476831Z",
     "iopub.status.idle": "2021-10-25T08:03:03.483046Z",
     "shell.execute_reply": "2021-10-25T08:03:03.482416Z",
     "shell.execute_reply.started": "2021-10-25T08:03:03.477376Z"
    }
   },
   "outputs": [],
   "source": [
    "# concating both dataset - df_spam and df_ham_balanced to create df_balanced dataset\n",
    "df_balanced = pd.concat([df_spam , df_ham_downsampled])"
   ]
  },
  {
   "cell_type": "code",
   "execution_count": 14,
   "metadata": {
    "execution": {
     "iopub.execute_input": "2021-10-25T08:03:21.093767Z",
     "iopub.status.busy": "2021-10-25T08:03:21.093467Z",
     "iopub.status.idle": "2021-10-25T08:03:21.102853Z",
     "shell.execute_reply": "2021-10-25T08:03:21.101695Z",
     "shell.execute_reply.started": "2021-10-25T08:03:21.093737Z"
    }
   },
   "outputs": [
    {
     "data": {
      "text/plain": [
       "spam    747\n",
       "ham     747\n",
       "Name: Category, dtype: int64"
      ]
     },
     "execution_count": 14,
     "metadata": {},
     "output_type": "execute_result"
    }
   ],
   "source": [
    "df_balanced['Category'].value_counts()"
   ]
  },
  {
   "cell_type": "code",
   "execution_count": 15,
   "metadata": {
    "execution": {
     "iopub.execute_input": "2021-10-25T06:28:18.863759Z",
     "iopub.status.busy": "2021-10-25T06:28:18.863180Z",
     "iopub.status.idle": "2021-10-25T06:28:18.875247Z",
     "shell.execute_reply": "2021-10-25T06:28:18.874366Z",
     "shell.execute_reply.started": "2021-10-25T06:28:18.863709Z"
    }
   },
   "outputs": [
    {
     "data": {
      "text/html": [
       "<div>\n",
       "<style scoped>\n",
       "    .dataframe tbody tr th:only-of-type {\n",
       "        vertical-align: middle;\n",
       "    }\n",
       "\n",
       "    .dataframe tbody tr th {\n",
       "        vertical-align: top;\n",
       "    }\n",
       "\n",
       "    .dataframe thead th {\n",
       "        text-align: right;\n",
       "    }\n",
       "</style>\n",
       "<table border=\"1\" class=\"dataframe\">\n",
       "  <thead>\n",
       "    <tr style=\"text-align: right;\">\n",
       "      <th></th>\n",
       "      <th>Category</th>\n",
       "      <th>Message</th>\n",
       "    </tr>\n",
       "  </thead>\n",
       "  <tbody>\n",
       "    <tr>\n",
       "      <th>2975</th>\n",
       "      <td>ham</td>\n",
       "      <td>I'll text carlos and let you know, hang on</td>\n",
       "    </tr>\n",
       "    <tr>\n",
       "      <th>5071</th>\n",
       "      <td>spam</td>\n",
       "      <td>5p 4 alfie Moon's Children in need song on ur ...</td>\n",
       "    </tr>\n",
       "    <tr>\n",
       "      <th>5232</th>\n",
       "      <td>spam</td>\n",
       "      <td>YOU ARE CHOSEN TO RECEIVE A £350 AWARD! Pls ca...</td>\n",
       "    </tr>\n",
       "    <tr>\n",
       "      <th>3422</th>\n",
       "      <td>spam</td>\n",
       "      <td>Welcome! Please reply with your AGE and GENDER...</td>\n",
       "    </tr>\n",
       "    <tr>\n",
       "      <th>3812</th>\n",
       "      <td>ham</td>\n",
       "      <td>Excellent! Wish we were together right now!</td>\n",
       "    </tr>\n",
       "    <tr>\n",
       "      <th>2247</th>\n",
       "      <td>spam</td>\n",
       "      <td>Hi ya babe x u 4goten bout me?' scammers getti...</td>\n",
       "    </tr>\n",
       "    <tr>\n",
       "      <th>177</th>\n",
       "      <td>ham</td>\n",
       "      <td>U still going to the mall?</td>\n",
       "    </tr>\n",
       "    <tr>\n",
       "      <th>4845</th>\n",
       "      <td>spam</td>\n",
       "      <td>YOU HAVE WON! As a valued Vodafone customer ou...</td>\n",
       "    </tr>\n",
       "    <tr>\n",
       "      <th>3763</th>\n",
       "      <td>spam</td>\n",
       "      <td>FREE for 1st week! No1 Nokia tone 4 ur mob eve...</td>\n",
       "    </tr>\n",
       "    <tr>\n",
       "      <th>327</th>\n",
       "      <td>ham</td>\n",
       "      <td>Hi da:)how is the todays class?</td>\n",
       "    </tr>\n",
       "  </tbody>\n",
       "</table>\n",
       "</div>"
      ],
      "text/plain": [
       "     Category                                            Message\n",
       "2975      ham         I'll text carlos and let you know, hang on\n",
       "5071     spam  5p 4 alfie Moon's Children in need song on ur ...\n",
       "5232     spam  YOU ARE CHOSEN TO RECEIVE A £350 AWARD! Pls ca...\n",
       "3422     spam  Welcome! Please reply with your AGE and GENDER...\n",
       "3812      ham        Excellent! Wish we were together right now!\n",
       "2247     spam  Hi ya babe x u 4goten bout me?' scammers getti...\n",
       "177       ham                         U still going to the mall?\n",
       "4845     spam  YOU HAVE WON! As a valued Vodafone customer ou...\n",
       "3763     spam  FREE for 1st week! No1 Nokia tone 4 ur mob eve...\n",
       "327       ham                    Hi da:)how is the todays class?"
      ]
     },
     "execution_count": 15,
     "metadata": {},
     "output_type": "execute_result"
    }
   ],
   "source": [
    "df_balanced.sample(10)\n"
   ]
  },
  {
   "cell_type": "markdown",
   "metadata": {},
   "source": [
    "##### Preprocessing of Spam Detection Data"
   ]
  },
  {
   "cell_type": "code",
   "execution_count": 16,
   "metadata": {
    "execution": {
     "iopub.execute_input": "2021-10-25T08:03:35.502839Z",
     "iopub.status.busy": "2021-10-25T08:03:35.502396Z",
     "iopub.status.idle": "2021-10-25T08:03:35.510210Z",
     "shell.execute_reply": "2021-10-25T08:03:35.509335Z",
     "shell.execute_reply.started": "2021-10-25T08:03:35.502806Z"
    }
   },
   "outputs": [],
   "source": [
    "# creating numerical repersentation of category - one hot encoding\n",
    "df_balanced['spam'] = df_balanced['Category'].apply(lambda x:1 if x=='spam' else 0)"
   ]
  },
  {
   "cell_type": "code",
   "execution_count": 17,
   "metadata": {
    "execution": {
     "iopub.execute_input": "2021-10-25T06:28:38.337215Z",
     "iopub.status.busy": "2021-10-25T06:28:38.336867Z",
     "iopub.status.idle": "2021-10-25T06:28:38.351126Z",
     "shell.execute_reply": "2021-10-25T06:28:38.350219Z",
     "shell.execute_reply.started": "2021-10-25T06:28:38.337177Z"
    }
   },
   "outputs": [
    {
     "data": {
      "text/html": [
       "<div>\n",
       "<style scoped>\n",
       "    .dataframe tbody tr th:only-of-type {\n",
       "        vertical-align: middle;\n",
       "    }\n",
       "\n",
       "    .dataframe tbody tr th {\n",
       "        vertical-align: top;\n",
       "    }\n",
       "\n",
       "    .dataframe thead th {\n",
       "        text-align: right;\n",
       "    }\n",
       "</style>\n",
       "<table border=\"1\" class=\"dataframe\">\n",
       "  <thead>\n",
       "    <tr style=\"text-align: right;\">\n",
       "      <th></th>\n",
       "      <th>Category</th>\n",
       "      <th>Message</th>\n",
       "      <th>spam</th>\n",
       "    </tr>\n",
       "  </thead>\n",
       "  <tbody>\n",
       "    <tr>\n",
       "      <th>840</th>\n",
       "      <td>spam</td>\n",
       "      <td>Last chance 2 claim ur £150 worth of discount ...</td>\n",
       "      <td>1</td>\n",
       "    </tr>\n",
       "    <tr>\n",
       "      <th>1056</th>\n",
       "      <td>ham</td>\n",
       "      <td>I'm at work. Please call</td>\n",
       "      <td>0</td>\n",
       "    </tr>\n",
       "    <tr>\n",
       "      <th>3014</th>\n",
       "      <td>spam</td>\n",
       "      <td>FREE UNLIMITED HARDCORE PORN direct 2 your mob...</td>\n",
       "      <td>1</td>\n",
       "    </tr>\n",
       "    <tr>\n",
       "      <th>3078</th>\n",
       "      <td>ham</td>\n",
       "      <td>There is no sense in my foot and penis.</td>\n",
       "      <td>0</td>\n",
       "    </tr>\n",
       "  </tbody>\n",
       "</table>\n",
       "</div>"
      ],
      "text/plain": [
       "     Category                                            Message  spam\n",
       "840      spam  Last chance 2 claim ur £150 worth of discount ...     1\n",
       "1056      ham                           I'm at work. Please call     0\n",
       "3014     spam  FREE UNLIMITED HARDCORE PORN direct 2 your mob...     1\n",
       "3078      ham            There is no sense in my foot and penis.     0"
      ]
     },
     "execution_count": 17,
     "metadata": {},
     "output_type": "execute_result"
    }
   ],
   "source": [
    "df_balanced.sample(4)"
   ]
  },
  {
   "cell_type": "code",
   "execution_count": 18,
   "metadata": {
    "execution": {
     "iopub.execute_input": "2021-10-25T08:03:43.072472Z",
     "iopub.status.busy": "2021-10-25T08:03:43.071757Z",
     "iopub.status.idle": "2021-10-25T08:03:43.078935Z",
     "shell.execute_reply": "2021-10-25T08:03:43.078300Z",
     "shell.execute_reply.started": "2021-10-25T08:03:43.072422Z"
    }
   },
   "outputs": [
    {
     "data": {
      "text/plain": [
       "'Urgent! Please call 09061743811 from landline. Your ABTA complimentary 4* Tenerife Holiday or £5000 cash await collection SAE T&Cs Box 326 CW25WX 150ppm'"
      ]
     },
     "execution_count": 18,
     "metadata": {},
     "output_type": "execute_result"
    }
   ],
   "source": [
    "df_balanced.Message[1888]"
   ]
  },
  {
   "cell_type": "markdown",
   "metadata": {},
   "source": [
    "take the dataset\n",
    "voc\n",
    "token_ids"
   ]
  },
  {
   "cell_type": "markdown",
   "metadata": {},
   "source": [
    "[121, 25, 689, [], [89>][], ]-------->1\n",
    "\n",
    "\n",
    "--------> [25],[89],[689],[121]>>>>>>>Spam  \n",
    "------->I am an [Indian] and i speak [hindi].<---- : Classification\n",
    "\n",
    "\n",
    "\n",
    "Urgent: 121\n",
    "[key]: [value]\n",
    "[indian]------[hindi][tamil][telgu][punjabi]\n",
    "[indiam]------[arabic][hebrew][french] \n",
    "\n",
    "\n",
    "\n"
   ]
  },
  {
   "cell_type": "markdown",
   "metadata": {},
   "source": []
  },
  {
   "cell_type": "code",
   "execution_count": 19,
   "metadata": {
    "execution": {
     "iopub.execute_input": "2021-10-25T06:28:49.713049Z",
     "iopub.status.busy": "2021-10-25T06:28:49.712225Z",
     "iopub.status.idle": "2021-10-25T06:28:49.725020Z",
     "shell.execute_reply": "2021-10-25T06:28:49.724274Z",
     "shell.execute_reply.started": "2021-10-25T06:28:49.713000Z"
    }
   },
   "outputs": [],
   "source": [
    "# loading train test split\n",
    "from sklearn.model_selection import train_test_split\n",
    "X_train, X_test , y_train, y_test = train_test_split(df_balanced['Message'], df_balanced['spam'],\n",
    "                                                    stratify = df_balanced['spam'])"
   ]
  },
  {
   "cell_type": "code",
   "execution_count": 20,
   "metadata": {
    "execution": {
     "iopub.execute_input": "2021-10-25T06:29:01.107632Z",
     "iopub.status.busy": "2021-10-25T06:29:01.107311Z",
     "iopub.status.idle": "2021-10-25T06:29:24.484132Z",
     "shell.execute_reply": "2021-10-25T06:29:24.483188Z",
     "shell.execute_reply.started": "2021-10-25T06:29:01.107597Z"
    }
   },
   "outputs": [],
   "source": [
    "# downloading preprocessing files and model\n",
    "bert_preprocessor = hub.KerasLayer('https://tfhub.dev/tensorflow/bert_en_uncased_preprocess/3')\n",
    "bert_encoder = hub.KerasLayer('https://tfhub.dev/tensorflow/bert_en_uncased_L-12_H-768_A-12/4')"
   ]
  },
  {
   "cell_type": "code",
   "execution_count": 22,
   "metadata": {
    "execution": {
     "iopub.execute_input": "2021-10-25T06:29:25.425586Z",
     "iopub.status.busy": "2021-10-25T06:29:25.425277Z",
     "iopub.status.idle": "2021-10-25T06:29:26.269474Z",
     "shell.execute_reply": "2021-10-25T06:29:26.268882Z",
     "shell.execute_reply.started": "2021-10-25T06:29:25.425553Z"
    }
   },
   "outputs": [],
   "source": [
    "text_input = tf.keras.layers.Input(shape = (), dtype = tf.string, name = 'Inputs')\n",
    "preprocessed_text = bert_preprocessor(text_input)\n",
    "embeed = bert_encoder(preprocessed_text)\n",
    "dropout = tf.keras.layers.Dropout(0.1, name = 'Dropout')(embeed['pooled_output'])\n",
    "outputs = tf.keras.layers.Dense(1, activation = 'sigmoid', name = 'Dense')(dropout)"
   ]
  },
  {
   "cell_type": "code",
   "execution_count": 23,
   "metadata": {
    "execution": {
     "iopub.execute_input": "2021-10-25T06:29:37.811883Z",
     "iopub.status.busy": "2021-10-25T06:29:37.811044Z",
     "iopub.status.idle": "2021-10-25T06:29:37.826000Z",
     "shell.execute_reply": "2021-10-25T06:29:37.824122Z",
     "shell.execute_reply.started": "2021-10-25T06:29:37.811830Z"
    }
   },
   "outputs": [],
   "source": [
    "# creating final model\n",
    "model = tf.keras.Model(inputs = [text_input], outputs = [outputs])"
   ]
  },
  {
   "cell_type": "code",
   "execution_count": 24,
   "metadata": {
    "execution": {
     "iopub.execute_input": "2021-10-25T06:30:01.511817Z",
     "iopub.status.busy": "2021-10-25T06:30:01.511528Z",
     "iopub.status.idle": "2021-10-25T06:30:01.527461Z",
     "shell.execute_reply": "2021-10-25T06:30:01.526630Z",
     "shell.execute_reply.started": "2021-10-25T06:30:01.511787Z"
    }
   },
   "outputs": [
    {
     "name": "stdout",
     "output_type": "stream",
     "text": [
      "Model: \"model\"\n",
      "__________________________________________________________________________________________________\n",
      " Layer (type)                   Output Shape         Param #     Connected to                     \n",
      "==================================================================================================\n",
      " Inputs (InputLayer)            [(None,)]            0           []                               \n",
      "                                                                                                  \n",
      " keras_layer (KerasLayer)       {'input_type_ids':   0           ['Inputs[0][0]']                 \n",
      "                                (None, 128),                                                      \n",
      "                                 'input_word_ids':                                                \n",
      "                                (None, 128),                                                      \n",
      "                                 'input_mask': (Non                                               \n",
      "                                e, 128)}                                                          \n",
      "                                                                                                  \n",
      " keras_layer_1 (KerasLayer)     {'sequence_output':  109482241   ['keras_layer[1][0]',            \n",
      "                                 (None, 128, 768),                'keras_layer[1][1]',            \n",
      "                                 'pooled_output': (               'keras_layer[1][2]']            \n",
      "                                None, 768),                                                       \n",
      "                                 'default': (None,                                                \n",
      "                                768),                                                             \n",
      "                                 'encoder_outputs':                                               \n",
      "                                 [(None, 128, 768),                                               \n",
      "                                 (None, 128, 768),                                                \n",
      "                                 (None, 128, 768),                                                \n",
      "                                 (None, 128, 768),                                                \n",
      "                                 (None, 128, 768),                                                \n",
      "                                 (None, 128, 768),                                                \n",
      "                                 (None, 128, 768),                                                \n",
      "                                 (None, 128, 768),                                                \n",
      "                                 (None, 128, 768),                                                \n",
      "                                 (None, 128, 768),                                                \n",
      "                                 (None, 128, 768),                                                \n",
      "                                 (None, 128, 768)]}                                               \n",
      "                                                                                                  \n",
      " Dropout (Dropout)              (None, 768)          0           ['keras_layer_1[1][13]']         \n",
      "                                                                                                  \n",
      " Dense (Dense)                  (None, 1)            769         ['Dropout[0][0]']                \n",
      "                                                                                                  \n",
      "==================================================================================================\n",
      "Total params: 109,483,010\n",
      "Trainable params: 769\n",
      "Non-trainable params: 109,482,241\n",
      "__________________________________________________________________________________________________\n"
     ]
    }
   ],
   "source": [
    "model.summary()"
   ]
  },
  {
   "cell_type": "code",
   "execution_count": 25,
   "metadata": {
    "execution": {
     "iopub.execute_input": "2021-10-25T06:30:25.684730Z",
     "iopub.status.busy": "2021-10-25T06:30:25.683942Z",
     "iopub.status.idle": "2021-10-25T06:30:25.701695Z",
     "shell.execute_reply": "2021-10-25T06:30:25.700710Z",
     "shell.execute_reply.started": "2021-10-25T06:30:25.684680Z"
    }
   },
   "outputs": [],
   "source": [
    "Metrics = [tf.keras.metrics.BinaryAccuracy(name = 'accuracy'),\n",
    "           tf.keras.metrics.Precision(name = 'precision'),\n",
    "           tf.keras.metrics.Recall(name = 'recall')\n",
    "           ]"
   ]
  },
  {
   "cell_type": "code",
   "execution_count": 26,
   "metadata": {
    "execution": {
     "iopub.execute_input": "2021-10-25T06:30:37.212196Z",
     "iopub.status.busy": "2021-10-25T06:30:37.211874Z",
     "iopub.status.idle": "2021-10-25T06:30:37.226569Z",
     "shell.execute_reply": "2021-10-25T06:30:37.225745Z",
     "shell.execute_reply.started": "2021-10-25T06:30:37.212165Z"
    }
   },
   "outputs": [],
   "source": [
    "# compiling our model\n",
    "model.compile(optimizer ='adam',\n",
    "               loss = 'binary_crossentropy',\n",
    "               metrics = Metrics)"
   ]
  },
  {
   "cell_type": "code",
   "execution_count": 27,
   "metadata": {
    "execution": {
     "iopub.execute_input": "2021-10-25T06:30:45.979205Z",
     "iopub.status.busy": "2021-10-25T06:30:45.978530Z",
     "iopub.status.idle": "2021-10-25T07:08:51.283575Z",
     "shell.execute_reply": "2021-10-25T07:08:51.282741Z",
     "shell.execute_reply.started": "2021-10-25T06:30:45.979149Z"
    }
   },
   "outputs": [
    {
     "name": "stdout",
     "output_type": "stream",
     "text": [
      "Epoch 1/10\n",
      "35/35 [==============================] - 244s 7s/step - loss: 0.6556 - accuracy: 0.6313 - precision: 0.6296 - recall: 0.6375\n",
      "Epoch 2/10\n",
      "35/35 [==============================] - 238s 7s/step - loss: 0.5313 - accuracy: 0.7795 - precision: 0.7947 - recall: 0.7536\n",
      "Epoch 3/10\n",
      "35/35 [==============================] - 241s 7s/step - loss: 0.4618 - accuracy: 0.8384 - precision: 0.8239 - recall: 0.8607\n",
      "Epoch 4/10\n",
      "35/35 [==============================] - 269s 8s/step - loss: 0.4110 - accuracy: 0.8670 - precision: 0.8730 - recall: 0.8589\n",
      "Epoch 5/10\n",
      "35/35 [==============================] - 246s 7s/step - loss: 0.3792 - accuracy: 0.8732 - precision: 0.8654 - recall: 0.8839\n",
      "Epoch 6/10\n",
      "35/35 [==============================] - 247s 7s/step - loss: 0.3533 - accuracy: 0.8875 - precision: 0.8666 - recall: 0.9161\n",
      "Epoch 7/10\n",
      "35/35 [==============================] - 237s 7s/step - loss: 0.3435 - accuracy: 0.8875 - precision: 0.8820 - recall: 0.8946\n",
      "Epoch 8/10\n",
      "35/35 [==============================] - 238s 7s/step - loss: 0.3200 - accuracy: 0.8982 - precision: 0.8832 - recall: 0.9179\n",
      "Epoch 9/10\n",
      "35/35 [==============================] - 238s 7s/step - loss: 0.3108 - accuracy: 0.9000 - precision: 0.8958 - recall: 0.9054\n",
      "Epoch 10/10\n",
      "35/35 [==============================] - 236s 7s/step - loss: 0.2946 - accuracy: 0.9018 - precision: 0.8947 - recall: 0.9107\n"
     ]
    }
   ],
   "source": [
    "history = model.fit(X_train, y_train, epochs = 10)"
   ]
  },
  {
   "cell_type": "code",
   "execution_count": 28,
   "metadata": {
    "execution": {
     "iopub.execute_input": "2021-10-25T07:09:21.485867Z",
     "iopub.status.busy": "2021-10-25T07:09:21.485518Z",
     "iopub.status.idle": "2021-10-25T07:10:39.859467Z",
     "shell.execute_reply": "2021-10-25T07:10:39.858226Z",
     "shell.execute_reply.started": "2021-10-25T07:09:21.485824Z"
    }
   },
   "outputs": [
    {
     "name": "stdout",
     "output_type": "stream",
     "text": [
      "12/12 [==============================] - 77s 6s/step - loss: 0.2594 - accuracy: 0.9118 - precision: 0.8969 - recall: 0.9305\n"
     ]
    },
    {
     "data": {
      "text/plain": [
       "[0.25940293073654175,\n",
       " 0.9117646813392639,\n",
       " 0.8969072103500366,\n",
       " 0.9304812550544739]"
      ]
     },
     "execution_count": 28,
     "metadata": {},
     "output_type": "execute_result"
    }
   ],
   "source": [
    "# Evaluating performance\n",
    "model.evaluate(X_test,y_test)"
   ]
  },
  {
   "cell_type": "code",
   "execution_count": null,
   "metadata": {},
   "outputs": [],
   "source": []
  }
 ],
 "metadata": {
  "kernelspec": {
   "display_name": "Python 3 (ipykernel)",
   "language": "python",
   "name": "python3"
  },
  "language_info": {
   "codemirror_mode": {
    "name": "ipython",
    "version": 3
   },
   "file_extension": ".py",
   "mimetype": "text/x-python",
   "name": "python",
   "nbconvert_exporter": "python",
   "pygments_lexer": "ipython3",
   "version": "3.7.11"
  }
 },
 "nbformat": 4,
 "nbformat_minor": 4
}
