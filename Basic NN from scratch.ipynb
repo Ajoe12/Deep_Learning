{
 "cells": [
  {
   "cell_type": "markdown",
   "metadata": {},
   "source": [
    "### Developing first neural network model"
   ]
  },
  {
   "cell_type": "code",
   "execution_count": 1,
   "metadata": {
    "execution": {
     "iopub.execute_input": "2021-08-31T05:38:47.708753Z",
     "iopub.status.busy": "2021-08-31T05:38:47.708138Z",
     "iopub.status.idle": "2021-08-31T05:38:47.717626Z",
     "shell.execute_reply": "2021-08-31T05:38:47.716756Z",
     "shell.execute_reply.started": "2021-08-31T05:38:47.708717Z"
    }
   },
   "outputs": [],
   "source": [
    " # importing required libraries\n",
    "%matplotlib inline\n",
    "\n",
    "import numpy as np\n",
    "import matplotlib.pyplot as plt"
   ]
  },
  {
   "cell_type": "code",
   "execution_count": 2,
   "metadata": {
    "execution": {
     "iopub.execute_input": "2021-08-31T05:38:47.851717Z",
     "iopub.status.busy": "2021-08-31T05:38:47.851195Z",
     "iopub.status.idle": "2021-08-31T05:38:47.855945Z",
     "shell.execute_reply": "2021-08-31T05:38:47.854826Z",
     "shell.execute_reply.started": "2021-08-31T05:38:47.851683Z"
    }
   },
   "outputs": [],
   "source": [
    "# set random seed\n",
    "np.random.seed(42)"
   ]
  },
  {
   "cell_type": "markdown",
   "metadata": {},
   "source": [
    "### Forward Propagation without backward propagation"
   ]
  },
  {
   "cell_type": "code",
   "execution_count": 3,
   "metadata": {
    "execution": {
     "iopub.execute_input": "2021-08-31T05:51:35.818592Z",
     "iopub.status.busy": "2021-08-31T05:51:35.818130Z",
     "iopub.status.idle": "2021-08-31T05:51:36.249333Z",
     "shell.execute_reply": "2021-08-31T05:51:36.248207Z",
     "shell.execute_reply.started": "2021-08-31T05:51:35.818548Z"
    }
   },
   "outputs": [
    {
     "name": "stdout",
     "output_type": "stream",
     "text": [
      "\n",
      " Input:\n",
      "[[1 0 1 0]\n",
      " [1 0 1 1]\n",
      " [0 1 0 1]]\n",
      "\n",
      " Actual Output:\n",
      "[[1]\n",
      " [1]\n",
      " [0]]\n",
      "\n",
      " Output from the model:\n",
      "[[0.78143891]\n",
      " [0.79362068]\n",
      " [0.76681588]]\n"
     ]
    }
   ],
   "source": [
    "#load input\n",
    "# creating the input array\n",
    "X=np.array([[1,0,1,0],[1,0,1,1],[0,1,0,1]])\n",
    "print ('\\n Input:')\n",
    "print(X)\n",
    "\n",
    "\n",
    "# creating the output array\n",
    "y=np.array([[1],[1],[0]])\n",
    "print ('\\n Actual Output:')\n",
    "print(y)\n",
    "\n",
    "# defining the Sigmoid Function\n",
    "def sigmoid (x):\n",
    "    return 1/(1 + np.exp(-x))\n",
    "\n",
    "# derivative of Sigmoid Function\n",
    "def derivatives_sigmoid(x):\n",
    "    \n",
    "    return x * (1 - x)\n",
    "\n",
    "# initializing the variables\n",
    "epoch=5000 # number of training iterations\n",
    "lr=0.1 # learning rate\n",
    "\n",
    "inputlayer_neurons = X.shape[1] # number of features in data set\n",
    "hiddenlayer_neurons = 3 # number of hidden layers neurons\n",
    "output_neurons = 1 # number of neurons at output layer\n",
    "\n",
    "# initializing weight and bias\n",
    "wh=np.random.uniform(size=(inputlayer_neurons,hiddenlayer_neurons))\n",
    "bh=np.random.uniform(size=(1,hiddenlayer_neurons))\n",
    "wout=np.random.uniform(size=(hiddenlayer_neurons,output_neurons))\n",
    "bout=np.random.uniform(size=(1,output_neurons))\n",
    "\n",
    "# training the model\n",
    "for i in range(epoch):\n",
    "\n",
    "    #Forward Propogation y= x.w\n",
    "    hidden_layer_input1=np.dot(X,wh) #weighted ip\n",
    "    \n",
    "    z=hidden_layer_input1 + bh # z= wt+b\n",
    "    # g(z)=1/1+e^(-z)\n",
    "    \n",
    "    hiddenlayer_activations = sigmoid(z)\n",
    "    \n",
    "    ## op of hidden layer is input of next layer: HL, OL \n",
    "    \n",
    "    output_layer_input1=np.dot(hiddenlayer_activations,wout) #weighted ip\n",
    "    output_layer_input= output_layer_input1+ bout # z= wt+b\n",
    "    output = sigmoid(output_layer_input) # g(z)=1/1+e^(-z)\n",
    "\n",
    "print ('\\n Output from the model:')\n",
    "print (output)\n"
   ]
  },
  {
   "cell_type": "markdown",
   "metadata": {},
   "source": [
    "### Importance of Backward Propagation"
   ]
  },
  {
   "cell_type": "code",
   "execution_count": 4,
   "metadata": {},
   "outputs": [
    {
     "name": "stdout",
     "output_type": "stream",
     "text": [
      "\n",
      " Output from the model:\n",
      "[[0.98404531]\n",
      " [0.9745495 ]\n",
      " [0.03606094]]\n"
     ]
    }
   ],
   "source": [
    "for i in range(epoch):\n",
    "    #Forward Propogation y= x.w\n",
    "    hidden_layer_input1=np.dot(X,wh) #weighted ip\n",
    "    \n",
    "    z=hidden_layer_input1 + bh # z= wt+b\n",
    "    # g(z)=1/1+e^(-z)\n",
    "    \n",
    "    hiddenlayer_activations = sigmoid(z)\n",
    "    \n",
    "    ## op of hidden layer is input of next layer: HL, OL \n",
    "    \n",
    "    output_layer_input1=np.dot(hiddenlayer_activations,wout) #weighted ip\n",
    "    output_layer_input= output_layer_input1+ bout # z= wt+b\n",
    "    output = sigmoid(output_layer_input) # g(z)=1/1+e^(-z)\n",
    "\n",
    "    #Backpropagation\n",
    "    E = y-output\n",
    "    slope_output_layer = derivatives_sigmoid(output)\n",
    "    slope_hidden_layer = derivatives_sigmoid(hiddenlayer_activations)\n",
    "    d_output = E * slope_output_layer\n",
    "    Error_at_hidden_layer = d_output.dot(wout.T)  #Then compute change factor(delta) at the output layer, dependent on the gradient of error multiplied by the slope of output layer activation\n",
    "    d_hiddenlayer = Error_at_hidden_layer * slope_hidden_layer\n",
    "    wout += hiddenlayer_activations.T.dot(d_output) *lr\n",
    "    bout += np.sum(d_output, axis=0,keepdims=True) *lr\n",
    "    wh += X.T.dot(d_hiddenlayer) *lr\n",
    "    bh += np.sum(d_hiddenlayer, axis=0,keepdims=True) *lr\n",
    "print ('\\n Output from the model:')\n",
    "print (output)\n"
   ]
  },
  {
   "cell_type": "code",
   "execution_count": 5,
   "metadata": {
    "execution": {
     "iopub.execute_input": "2021-08-31T05:38:48.406434Z",
     "iopub.status.busy": "2021-08-31T05:38:48.406089Z",
     "iopub.status.idle": "2021-08-31T05:38:48.413807Z",
     "shell.execute_reply": "2021-08-31T05:38:48.412703Z",
     "shell.execute_reply.started": "2021-08-31T05:38:48.406402Z"
    }
   },
   "outputs": [
    {
     "name": "stdout",
     "output_type": "stream",
     "text": [
      "Input:\n",
      " [[1 0 0 0]\n",
      " [1 0 1 1]\n",
      " [0 1 0 1]]\n",
      "\n",
      "Shape of Input: (3, 4)\n"
     ]
    }
   ],
   "source": [
    "# creating the input array\n",
    "X = np.array([[1, 0, 0, 0], [1, 0, 1, 1], [0, 1, 0, 1]])\n",
    "\n",
    "print(\"Input:\\n\", X)\n",
    "\n",
    "# shape of input array\n",
    "print(\"\\nShape of Input:\", X.shape)"
   ]
  },
  {
   "cell_type": "code",
   "execution_count": 6,
   "metadata": {
    "execution": {
     "iopub.execute_input": "2021-08-31T05:38:48.416828Z",
     "iopub.status.busy": "2021-08-31T05:38:48.416380Z",
     "iopub.status.idle": "2021-08-31T05:38:48.426153Z",
     "shell.execute_reply": "2021-08-31T05:38:48.424991Z",
     "shell.execute_reply.started": "2021-08-31T05:38:48.416779Z"
    }
   },
   "outputs": [
    {
     "name": "stdout",
     "output_type": "stream",
     "text": [
      "Input in matrix form:\n",
      " [[1 1 0]\n",
      " [0 0 1]\n",
      " [0 1 0]\n",
      " [0 1 1]]\n",
      "\n",
      "Shape of Input Matrix: (4, 3)\n"
     ]
    }
   ],
   "source": [
    "\n",
    "# converting the input in matrix form\n",
    "X = X.T\n",
    "print(\"Input in matrix form:\\n\", X)\n",
    "\n",
    "# shape of input matrix\n",
    "print(\"\\nShape of Input Matrix:\", X.shape)"
   ]
  },
  {
   "cell_type": "code",
   "execution_count": 7,
   "metadata": {
    "execution": {
     "iopub.execute_input": "2021-08-31T05:38:48.428339Z",
     "iopub.status.busy": "2021-08-31T05:38:48.428024Z",
     "iopub.status.idle": "2021-08-31T05:38:48.439612Z",
     "shell.execute_reply": "2021-08-31T05:38:48.438639Z",
     "shell.execute_reply.started": "2021-08-31T05:38:48.428310Z"
    }
   },
   "outputs": [
    {
     "name": "stdout",
     "output_type": "stream",
     "text": [
      "Actual Output:\n",
      " [[1]\n",
      " [1]\n",
      " [0]]\n",
      "\n",
      "Output in matrix form:\n",
      " [[1 1 0]]\n",
      "\n",
      "Shape of Output: (1, 3)\n"
     ]
    }
   ],
   "source": [
    "# creating the output array\n",
    "y = np.array([[1], [1], [0]])\n",
    "\n",
    "print(\"Actual Output:\\n\", y)\n",
    "\n",
    "# output in matrix form\n",
    "y = y.T\n",
    "\n",
    "print(\"\\nOutput in matrix form:\\n\", y)\n",
    "\n",
    "# shape of input array\n",
    "print(\"\\nShape of Output:\", y.shape)"
   ]
  },
  {
   "cell_type": "code",
   "execution_count": 8,
   "metadata": {
    "execution": {
     "iopub.execute_input": "2021-08-31T05:38:48.441330Z",
     "iopub.status.busy": "2021-08-31T05:38:48.441038Z",
     "iopub.status.idle": "2021-08-31T05:38:48.450399Z",
     "shell.execute_reply": "2021-08-31T05:38:48.449594Z",
     "shell.execute_reply.started": "2021-08-31T05:38:48.441303Z"
    }
   },
   "outputs": [],
   "source": [
    "inputLayer_neurons = X.shape[0]  # number of features in data set\n",
    "hiddenLayer_neurons = 3  # number of hidden layers neurons\n",
    "outputLayer_neurons = 1  # number of neurons at output layer\n"
   ]
  },
  {
   "cell_type": "code",
   "execution_count": 9,
   "metadata": {
    "execution": {
     "iopub.execute_input": "2021-08-31T05:38:48.452038Z",
     "iopub.status.busy": "2021-08-31T05:38:48.451703Z",
     "iopub.status.idle": "2021-08-31T05:38:48.463929Z",
     "shell.execute_reply": "2021-08-31T05:38:48.462925Z",
     "shell.execute_reply.started": "2021-08-31T05:38:48.452008Z"
    }
   },
   "outputs": [],
   "source": [
    "# initializing weight\n",
    "# Shape of weights_input_hidden should number of neurons at input layer * number of neurons at hidden layer\n",
    "weights_input_hidden = np.random.uniform(size=(inputLayer_neurons, hiddenLayer_neurons))\n",
    "\n",
    "# Shape of weights_hidden_output should number of neurons at hidden layer * number of neurons at output layer\n",
    "weights_hidden_output = np.random.uniform(\n",
    "    size=(hiddenLayer_neurons, outputLayer_neurons)\n",
    ")"
   ]
  },
  {
   "cell_type": "code",
   "execution_count": 10,
   "metadata": {
    "execution": {
     "iopub.execute_input": "2021-08-31T05:38:48.465540Z",
     "iopub.status.busy": "2021-08-31T05:38:48.465234Z",
     "iopub.status.idle": "2021-08-31T05:38:48.477280Z",
     "shell.execute_reply": "2021-08-31T05:38:48.475856Z",
     "shell.execute_reply.started": "2021-08-31T05:38:48.465511Z"
    }
   },
   "outputs": [
    {
     "data": {
      "text/plain": [
       "((4, 3), (3, 1))"
      ]
     },
     "execution_count": 10,
     "metadata": {},
     "output_type": "execute_result"
    }
   ],
   "source": [
    "# shape of weight matrix\n",
    "weights_input_hidden.shape, weights_hidden_output.shape# We are using sigmoid as an activation function so defining the sigmoid function here"
   ]
  },
  {
   "cell_type": "code",
   "execution_count": 11,
   "metadata": {
    "execution": {
     "iopub.execute_input": "2021-08-31T05:38:48.480534Z",
     "iopub.status.busy": "2021-08-31T05:38:48.480175Z",
     "iopub.status.idle": "2021-08-31T05:38:48.489716Z",
     "shell.execute_reply": "2021-08-31T05:38:48.487971Z",
     "shell.execute_reply.started": "2021-08-31T05:38:48.480503Z"
    }
   },
   "outputs": [],
   "source": [
    "\n",
    "# We are using sigmoid as an activation function so defining the sigmoid function here\n",
    "\n",
    "# defining the Sigmoid Function\n",
    "def sigmoid(x):\n",
    "    return 1 / (1 + np.exp(-x))"
   ]
  },
  {
   "cell_type": "code",
   "execution_count": 12,
   "metadata": {
    "execution": {
     "iopub.execute_input": "2021-08-31T05:38:48.491737Z",
     "iopub.status.busy": "2021-08-31T05:38:48.491440Z",
     "iopub.status.idle": "2021-08-31T05:38:48.508694Z",
     "shell.execute_reply": "2021-08-31T05:38:48.507396Z",
     "shell.execute_reply.started": "2021-08-31T05:38:48.491709Z"
    }
   },
   "outputs": [],
   "source": [
    "# hidden layer activations\n",
    "\n",
    "hiddenLayer_linearTransform = np.dot(weights_input_hidden.T, X)\n",
    "hiddenLayer_activations = sigmoid(hiddenLayer_linearTransform)"
   ]
  },
  {
   "cell_type": "code",
   "execution_count": 13,
   "metadata": {
    "execution": {
     "iopub.execute_input": "2021-08-31T05:38:48.510836Z",
     "iopub.status.busy": "2021-08-31T05:38:48.510385Z",
     "iopub.status.idle": "2021-08-31T05:38:48.520522Z",
     "shell.execute_reply": "2021-08-31T05:38:48.519287Z",
     "shell.execute_reply.started": "2021-08-31T05:38:48.510787Z"
    }
   },
   "outputs": [],
   "source": [
    "# calculating the output\n",
    "outputLayer_linearTransform = np.dot(weights_hidden_output.T, hiddenLayer_activations)\n",
    "output = sigmoid(outputLayer_linearTransform)"
   ]
  },
  {
   "cell_type": "code",
   "execution_count": 14,
   "metadata": {
    "execution": {
     "iopub.execute_input": "2021-08-31T05:38:48.522098Z",
     "iopub.status.busy": "2021-08-31T05:38:48.521766Z",
     "iopub.status.idle": "2021-08-31T05:38:48.533548Z",
     "shell.execute_reply": "2021-08-31T05:38:48.532346Z",
     "shell.execute_reply.started": "2021-08-31T05:38:48.522067Z"
    }
   },
   "outputs": [
    {
     "data": {
      "text/plain": [
       "array([[0.65638996, 0.71678677, 0.70375011]])"
      ]
     },
     "execution_count": 14,
     "metadata": {},
     "output_type": "execute_result"
    }
   ],
   "source": [
    "# output\n",
    "output"
   ]
  }
 ],
 "metadata": {
  "kernelspec": {
   "display_name": "Python 3 (ipykernel)",
   "language": "python",
   "name": "python3"
  },
  "language_info": {
   "codemirror_mode": {
    "name": "ipython",
    "version": 3
   },
   "file_extension": ".py",
   "mimetype": "text/x-python",
   "name": "python",
   "nbconvert_exporter": "python",
   "pygments_lexer": "ipython3",
   "version": "3.7.11"
  }
 },
 "nbformat": 4,
 "nbformat_minor": 4
}
